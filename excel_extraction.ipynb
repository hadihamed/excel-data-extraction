{
 "cells": [
  {
   "cell_type": "markdown",
   "metadata": {},
   "source": [
    "# Excel Sheet Stacking Script"
   ]
  },
  {
   "cell_type": "markdown",
   "metadata": {},
   "source": [
    "###### This program is made for combining excel files that need to be stacked vertically. It will begin in the path folder, and loop through all subfolders, loading each excel file, then grabbing each sheet from within the file. All files are combined and exported as a single excel file."
   ]
  },
  {
   "cell_type": "code",
   "execution_count": null,
   "metadata": {},
   "outputs": [],
   "source": [
    "import pandas as pd\n",
    "\n",
    "import glob\n",
    "import os\n",
    "\n",
    "path = '/Users/hhamed/Downloads/feedback_sample/'\n",
    "\n",
    "folders = os.walk(path)\n",
    "folder_list = next(folders)[1]\n",
    "\n",
    "combo_df = pd.DataFrame()"
   ]
  },
  {
   "cell_type": "code",
   "execution_count": null,
   "metadata": {},
   "outputs": [],
   "source": [
    "'''Loop through each folder, then each file, then each sheet, copying the\n",
    "contents of the sheet and appending it to a single dataframe'''\n",
    "for folder in folder_list:\n",
    "    folder_files = os.listdir(path + folder)\n",
    "    \n",
    "    for file in folder_files:\n",
    "        \n",
    "        xl = pd.ExcelFile(path + folder + '/' + file)\n",
    "        \n",
    "        for sheet in xl.sheet_names:\n",
    "            add_file = pd.read_excel(path + '/' + folder + '/' + file, sheet_name = sheet)\n",
    "            combo_df = combo_df.append(add_file, ignore_index = True)\n",
    "    \n"
   ]
  },
  {
   "cell_type": "code",
   "execution_count": null,
   "metadata": {},
   "outputs": [],
   "source": [
    "#Export data to excel file\n",
    "combo_df.to_excel('combined_spreadsheet.xlsx')"
   ]
  },
  {
   "cell_type": "code",
   "execution_count": null,
   "metadata": {},
   "outputs": [],
   "source": []
  }
 ],
 "metadata": {
  "kernelspec": {
   "display_name": "Python 3",
   "language": "python",
   "name": "python3"
  },
  "language_info": {
   "codemirror_mode": {
    "name": "ipython",
    "version": 3
   },
   "file_extension": ".py",
   "mimetype": "text/x-python",
   "name": "python",
   "nbconvert_exporter": "python",
   "pygments_lexer": "ipython3",
   "version": "3.7.3"
  }
 },
 "nbformat": 4,
 "nbformat_minor": 2
}
